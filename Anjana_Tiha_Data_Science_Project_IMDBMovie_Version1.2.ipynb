{
 "cells": [
  {
   "cell_type": "code",
   "execution_count": 26,
   "metadata": {
    "collapsed": false
   },
   "outputs": [
    {
     "name": "stderr",
     "output_type": "stream",
     "text": [
      "C:\\Users\\Anjana\\Anaconda3\\lib\\site-packages\\sklearn\\utils\\validation.py:395: DeprecationWarning: Passing 1d arrays as data is deprecated in 0.17 and will raise ValueError in 0.19. Reshape your data either using X.reshape(-1, 1) if your data has a single feature or X.reshape(1, -1) if it contains a single sample.\n",
      "  DeprecationWarning)\n",
      "C:\\Users\\Anjana\\Anaconda3\\lib\\site-packages\\sklearn\\preprocessing\\data.py:321: DeprecationWarning: Passing 1d arrays as data is deprecated in 0.17 and will raise ValueError in 0.19. Reshape your data either using X.reshape(-1, 1) if your data has a single feature or X.reshape(1, -1) if it contains a single sample.\n",
      "  warnings.warn(DEPRECATION_MSG_1D, DeprecationWarning)\n",
      "C:\\Users\\Anjana\\Anaconda3\\lib\\site-packages\\sklearn\\preprocessing\\data.py:356: DeprecationWarning: Passing 1d arrays as data is deprecated in 0.17 and will raise ValueError in 0.19. Reshape your data either using X.reshape(-1, 1) if your data has a single feature or X.reshape(1, -1) if it contains a single sample.\n",
      "  warnings.warn(DEPRECATION_MSG_1D, DeprecationWarning)\n"
     ]
    },
    {
     "name": "stdout",
     "output_type": "stream",
     "text": [
      "mean_absolute_error 4742.48583302\n",
      "original:\n",
      " [    0.          6681.77479509  1837.39968011    81.16019126  8852.73390936] prediction: [ 2049.30521724  2050.30521724  2048.30521724  2049.30521724  2049.30521724]\n"
     ]
    }
   ],
   "source": [
    "#Created by Anjana Tiha\n",
    "import pandas as pd\n",
    "import numpy as np\n",
    "from sklearn.cross_validation import train_test_split\n",
    "from sklearn.svm import SVR\n",
    "from sklearn.metrics import mean_absolute_error\n",
    "from sklearn import preprocessing\n",
    "from sklearn.preprocessing import LabelEncoder, OneHotEncoder\n",
    "\n",
    "\n",
    "imdb_movie = pd.read_csv(\"movie_metadata.csv\")\n",
    "\n",
    "imdb_movie['actor_1_name'] = imdb_movie['actor_1_name'].fillna('None').astype('category')\n",
    "imdb_movie['actor_1_facebook_likes'] = imdb_movie['actor_1_facebook_likes'].fillna(0.0).astype(np.float)\n",
    "#imdb_movie['actor_2_name']=imdb_movie['actor_2_name'].fillna(0).astype('category')\n",
    "imdb_movie['actor_2_facebook_likes'] = imdb_movie['actor_2_facebook_likes'].fillna(0.0).astype(np.float)\n",
    "#imdb_movie['actor_3_name']=imdb_movie['actor_3_name'].fillna(0).astype('category')\n",
    "imdb_movie['actor_3_facebook_likes'] = imdb_movie['actor_3_facebook_likes'].fillna(0.0).astype(np.float)\n",
    "#imdb_movie['director_name']=imdb_movie['director_name'].fillna(0).astype('category')\n",
    "imdb_movie['director_facebook_likes'] = imdb_movie['director_facebook_likes'].fillna(0.0).astype(np.float)\n",
    "imdb_movie['cast_total_facebook_likes'] = imdb_movie['cast_total_facebook_likes'].fillna(0.0).astype(np.float)\n",
    "imdb_movie['budget'] = imdb_movie['budget'].fillna(0.0).astype(np.float)\n",
    "imdb_movie['gross'] = imdb_movie['gross'].fillna(0.0).astype(np.float)\n",
    "\n",
    "target = imdb_movie['gross']\n",
    "raw_training_data = imdb_movie.drop('gross', axis = 1)\n",
    "\n",
    "\n",
    "#actor_set_1 = set(imdb_movie['actor_1_name'])\n",
    "#actor_list_1 = list(actor_set_1)\n",
    "actor_list_1 = list(imdb_movie['actor_1_name'])\n",
    "\n",
    "lbl_enc = LabelEncoder()\n",
    "label_actor_1 = lbl_enc.fit_transform(actor_list_1)\n",
    "ht_enc = OneHotEncoder()\n",
    "catagory_actor_1 = ht_enc.fit_transform(label_actor_1)\n",
    "\n",
    "\n",
    "\n",
    "data_list = list(zip( raw_training_data['director_facebook_likes'], raw_training_data['actor_1_facebook_likes'],\n",
    "    raw_training_data['actor_2_facebook_likes'], raw_training_data['actor_3_facebook_likes'], \n",
    "    raw_training_data['cast_total_facebook_likes'], raw_training_data['budget']))\n",
    "\n",
    "data = np.array(data_list)\n",
    "\n",
    "\n",
    "min_max_scaler = preprocessing.MinMaxScaler(feature_range = (0, 100000))\n",
    "\n",
    "#scale_data=preprocessing.scale(data)\n",
    "#scale_target= preprocessing.scale(target)\n",
    "\n",
    "scaled_data = min_max_scaler.fit_transform(data)\n",
    "scaled_target = min_max_scaler.fit_transform(target)\n",
    "                                            \n",
    "X_train, X_test, y_train, y_test = train_test_split(scaled_data, scaled_target, test_size = 0.3, random_state = 0)\n",
    "\n",
    "regr = SVR()\n",
    "regr.fit(X_train, y_train)\n",
    "y_pred = regr.predict(X_test)\n",
    "\n",
    "mean_abs_error = mean_absolute_error(y_test, y_pred)\n",
    "print(\"mean_absolute_error\", mean_abs_error)\n",
    "print(\"original:\\n\", y_test[:5], \"prediction:\", y_pred[:5])\n"
   ]
  },
  {
   "cell_type": "code",
   "execution_count": null,
   "metadata": {
    "collapsed": false
   },
   "outputs": [],
   "source": []
  },
  {
   "cell_type": "code",
   "execution_count": null,
   "metadata": {
    "collapsed": true
   },
   "outputs": [],
   "source": []
  }
 ],
 "metadata": {
  "anaconda-cloud": {},
  "kernelspec": {
   "display_name": "Python [conda root]",
   "language": "python",
   "name": "conda-root-py"
  },
  "language_info": {
   "codemirror_mode": {
    "name": "ipython",
    "version": 3
   },
   "file_extension": ".py",
   "mimetype": "text/x-python",
   "name": "python",
   "nbconvert_exporter": "python",
   "pygments_lexer": "ipython3",
   "version": "3.5.2"
  }
 },
 "nbformat": 4,
 "nbformat_minor": 1
}
