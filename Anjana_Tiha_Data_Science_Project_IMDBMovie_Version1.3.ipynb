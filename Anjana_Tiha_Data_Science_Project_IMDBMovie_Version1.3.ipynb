{
 "cells": [
  {
   "cell_type": "code",
   "execution_count": 82,
   "metadata": {
    "collapsed": false
   },
   "outputs": [
    {
     "name": "stderr",
     "output_type": "stream",
     "text": [
      "C:\\Users\\Anjana\\Anaconda3\\lib\\site-packages\\sklearn\\utils\\validation.py:395: DeprecationWarning: Passing 1d arrays as data is deprecated in 0.17 and will raise ValueError in 0.19. Reshape your data either using X.reshape(-1, 1) if your data has a single feature or X.reshape(1, -1) if it contains a single sample.\n",
      "  DeprecationWarning)\n",
      "C:\\Users\\Anjana\\Anaconda3\\lib\\site-packages\\sklearn\\utils\\validation.py:395: DeprecationWarning: Passing 1d arrays as data is deprecated in 0.17 and will raise ValueError in 0.19. Reshape your data either using X.reshape(-1, 1) if your data has a single feature or X.reshape(1, -1) if it contains a single sample.\n",
      "  DeprecationWarning)\n",
      "C:\\Users\\Anjana\\Anaconda3\\lib\\site-packages\\sklearn\\utils\\validation.py:395: DeprecationWarning: Passing 1d arrays as data is deprecated in 0.17 and will raise ValueError in 0.19. Reshape your data either using X.reshape(-1, 1) if your data has a single feature or X.reshape(1, -1) if it contains a single sample.\n",
      "  DeprecationWarning)\n"
     ]
    },
    {
     "name": "stdout",
     "output_type": "stream",
     "text": [
      "[[ 1.]\n",
      " [ 1.]\n",
      " [ 1.]\n",
      " ..., \n",
      " [ 1.]\n",
      " [ 1.]\n",
      " [ 1.]]\n",
      "(5043, 1) (5043, 1) (5043, 1) (5043, 6)\n"
     ]
    },
    {
     "name": "stderr",
     "output_type": "stream",
     "text": [
      "C:\\Users\\Anjana\\Anaconda3\\lib\\site-packages\\sklearn\\preprocessing\\data.py:321: DeprecationWarning: Passing 1d arrays as data is deprecated in 0.17 and will raise ValueError in 0.19. Reshape your data either using X.reshape(-1, 1) if your data has a single feature or X.reshape(1, -1) if it contains a single sample.\n",
      "  warnings.warn(DEPRECATION_MSG_1D, DeprecationWarning)\n",
      "C:\\Users\\Anjana\\Anaconda3\\lib\\site-packages\\sklearn\\preprocessing\\data.py:356: DeprecationWarning: Passing 1d arrays as data is deprecated in 0.17 and will raise ValueError in 0.19. Reshape your data either using X.reshape(-1, 1) if your data has a single feature or X.reshape(1, -1) if it contains a single sample.\n",
      "  warnings.warn(DEPRECATION_MSG_1D, DeprecationWarning)\n"
     ]
    },
    {
     "name": "stdout",
     "output_type": "stream",
     "text": [
      "mean_absolute_error 43.1670919499\n",
      "original:\n",
      " [  0.          66.81774795  18.3739968    0.81160191  88.52733909] prediction: [ 30.1355768   34.89149957  24.34905611  32.17709277  24.02880559]\n"
     ]
    }
   ],
   "source": [
    "#Created by Anjana Tiha\n",
    "import pandas as pd\n",
    "import numpy as np\n",
    "from sklearn.cross_validation import train_test_split\n",
    "from sklearn.svm import SVR\n",
    "from sklearn.metrics import mean_absolute_error\n",
    "from sklearn import preprocessing\n",
    "from sklearn.preprocessing import LabelEncoder, OneHotEncoder\n",
    "\n",
    "\n",
    "imdb_movie = pd.read_csv(\"movie_metadata.csv\")\n",
    "#print(imdb_movie.head)\n",
    "imdb_movie['actor_1_name'] = imdb_movie['actor_1_name'].fillna('None').astype('category')\n",
    "imdb_movie['actor_1_facebook_likes'] = imdb_movie['actor_1_facebook_likes'].fillna(0.0).astype(np.float)\n",
    "imdb_movie['actor_2_name'] = imdb_movie['actor_2_name'].fillna('None').astype('category')\n",
    "imdb_movie['actor_2_facebook_likes'] = imdb_movie['actor_2_facebook_likes'].fillna(0.0).astype(np.float)\n",
    "imdb_movie['actor_3_name']=imdb_movie['actor_3_name'].fillna('None').astype('category')\n",
    "imdb_movie['actor_3_facebook_likes'] = imdb_movie['actor_3_facebook_likes'].fillna(0.0).astype(np.float)\n",
    "#imdb_movie['director_name']=imdb_movie['director_name'].fillna(0).astype('category')\n",
    "imdb_movie['director_facebook_likes'] = imdb_movie['director_facebook_likes'].fillna(0.0).astype(np.float)\n",
    "imdb_movie['cast_total_facebook_likes'] = imdb_movie['cast_total_facebook_likes'].fillna(0.0).astype(np.float)\n",
    "imdb_movie['budget'] = imdb_movie['budget'].fillna(0.0).astype(np.float)\n",
    "imdb_movie['gross'] = imdb_movie['gross'].fillna(0.0).astype(np.float)\n",
    "\n",
    "target = imdb_movie['gross']\n",
    "raw_training_data = imdb_movie.drop('gross', axis = 1)\n",
    "\n",
    "#print(imdb_movie['actor_1_name'])\n",
    "#actor_set_1 = set(imdb_movie['actor_1_name'])\n",
    "#actor_list_1 = list(actor_set_1)\n",
    "#actor_list_1 = list(imdb_movie['actor_1_name'])\n",
    "\n",
    "lbl_enc_actor_1 = LabelEncoder()\n",
    "lbl_enc_actor_2 = LabelEncoder()\n",
    "lbl_enc_actor_3 = LabelEncoder()\n",
    "\n",
    "ht_enc_actor_1 = OneHotEncoder()\n",
    "ht_enc_actor_2 = OneHotEncoder()\n",
    "ht_enc_actor_3 = OneHotEncoder()\n",
    "\n",
    "label_actor_1 = lbl_enc_actor_1.fit_transform(imdb_movie['actor_1_name'])\n",
    "label_actor_2 = lbl_enc_actor_2.fit_transform(imdb_movie['actor_2_name'])\n",
    "label_actor_3 = lbl_enc_actor_3.fit_transform(imdb_movie['actor_3_name'])\n",
    "\n",
    "binary_enc_actor_1 = ht_enc_actor_1.fit_transform(label_actor_1).toarray()\n",
    "binary_enc_actor_2 = ht_enc_actor_2.fit_transform(label_actor_2).toarray()\n",
    "binary_enc_actor_3 = ht_enc_actor_3.fit_transform(label_actor_3).toarray()\n",
    "\n",
    "catagory_actor_1 = binary_enc_actor_1.transpose()\n",
    "catagory_actor_2 = binary_enc_actor_2.transpose()\n",
    "catagory_actor_3 = binary_enc_actor_3.transpose()\n",
    "\n",
    "data_list = list(zip( raw_training_data['director_facebook_likes'], raw_training_data['actor_1_facebook_likes'],\n",
    "    raw_training_data['actor_2_facebook_likes'], raw_training_data['actor_3_facebook_likes'], \n",
    "    raw_training_data['cast_total_facebook_likes'], raw_training_data['budget']))\n",
    "\n",
    "data = np.array(data_list)\n",
    "#print(data_list)\n",
    "print(catagory_actor_1)\n",
    "print(catagory_actor_1.shape, catagory_actor_2.shape, catagory_actor_3.shape, data.shape)\n",
    "\n",
    "min_max_scaler = preprocessing.MinMaxScaler(feature_range = (0, 1000))\n",
    "\n",
    "#scale_data=preprocessing.scale(data_list)\n",
    "#scale_target= preprocessing.scale(target)\n",
    "\n",
    "scaled_data = min_max_scaler.fit_transform(data)\n",
    "scaled_target = min_max_scaler.fit_transform(target)\n",
    "all_data = np.append(scaled_data, catagory_actor_1, 1)\n",
    "all_data2 = np.append(all_data, catagory_actor_2, 1)\n",
    "all_data3 = np.append(all_data2, catagory_actor_3, 1)\n",
    "                                            \n",
    "X_train, X_test, y_train, y_test = train_test_split(all_data2, scaled_target, test_size = 0.3, random_state = 0)\n",
    "\n",
    "regr = SVR()\n",
    "regr.fit(X_train, y_train)\n",
    "y_pred = regr.predict(X_test)\n",
    "\n",
    "mean_abs_error = mean_absolute_error(y_test, y_pred)\n",
    "print(\"mean_absolute_error\", mean_abs_error)\n",
    "print(\"original:\\n\", y_test[:5], \"prediction:\", y_pred[:5])\n"
   ]
  },
  {
   "cell_type": "code",
   "execution_count": null,
   "metadata": {
    "collapsed": true
   },
   "outputs": [],
   "source": []
  }
 ],
 "metadata": {
  "anaconda-cloud": {},
  "kernelspec": {
   "display_name": "Python [conda root]",
   "language": "python",
   "name": "conda-root-py"
  },
  "language_info": {
   "codemirror_mode": {
    "name": "ipython",
    "version": 3
   },
   "file_extension": ".py",
   "mimetype": "text/x-python",
   "name": "python",
   "nbconvert_exporter": "python",
   "pygments_lexer": "ipython3",
   "version": "3.5.2"
  }
 },
 "nbformat": 4,
 "nbformat_minor": 1
}
